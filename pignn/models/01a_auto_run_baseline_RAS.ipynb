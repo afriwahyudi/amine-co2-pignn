{
 "cells": [
  {
   "cell_type": "code",
   "execution_count": null,
   "metadata": {},
   "outputs": [],
   "source": [
    "import papermill as pm\n",
    "from tqdm.notebook import tqdm\n",
    "import os\n",
    "\n",
    "# Generate 20 distinct seeds\n",
    "seeds = [212, 1021, 260, 88, 12,\n",
    "         121, 1201, 620, 14, 21,\n",
    "         221, 1012, 206, 41, 32,\n",
    "         442, 2024, 412, 55, 99]\n",
    "\n",
    "param_sets = [{\"seed\": s, \"run\": r} for s in seeds for r in range(3)]"
   ]
  },
  {
   "cell_type": "code",
   "execution_count": null,
   "metadata": {},
   "outputs": [],
   "source": [
    "# Paths\n",
    "current_directory = os.getcwd()\n",
    "parent_directory = os.path.dirname(current_directory)\n",
    "working_dir = os.path.join(\n",
    "    os.path.dirname(os.getcwd()),\n",
    "    \"notebooks\"\n",
    "    )\n",
    "in_path = f'{working_dir}/01a_multirun_baseline_RAS.ipynb'\n",
    "out_path = f'{working_dir}/papermill/RAS_baseline/'\n",
    "os.makedirs(os.path.dirname(out_path), exist_ok=True)\n",
    "\n",
    "# Execution loop\n",
    "for i, params in tqdm(enumerate(param_sets), total=len(param_sets), desc=\"Notebook Runs\"):\n",
    "    print(f\"Running notebook #{i} with params: {params}\")\n",
    "    pm.execute_notebook(\n",
    "        input_path=in_path,\n",
    "        output_path=f\"{out_path}/seed{params['seed']}_run{params['run']}.ipynb\",\n",
    "        parameters=params\n",
    "    )"
   ]
  }
 ],
 "metadata": {
  "kernelspec": {
   "display_name": "Python 3",
   "language": "python",
   "name": "python3"
  },
  "language_info": {
   "codemirror_mode": {
    "name": "ipython",
    "version": 3
   },
   "file_extension": ".py",
   "mimetype": "text/x-python",
   "name": "python",
   "nbconvert_exporter": "python",
   "pygments_lexer": "ipython3",
   "version": "3.11.9"
  }
 },
 "nbformat": 4,
 "nbformat_minor": 2
}
